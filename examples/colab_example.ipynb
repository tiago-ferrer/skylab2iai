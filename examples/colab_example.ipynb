{
 "cells": [
  {
   "cell_type": "markdown",
   "metadata": {},
   "source": [
    "# Skylab2IAI - Google Colab Example\n",
    "\n",
    "This notebook demonstrates how to use the Skylab2IAI library in Google Colab to access and download Skylab mission data."
   ]
  },
  {
   "cell_type": "markdown",
   "metadata": {},
   "source": [
    "## Installation\n",
    "\n",
    "First, install the library directly from GitHub:"
   ]
  },
  {
   "cell_type": "code",
   "execution_count": 1,
   "metadata": {},
   "outputs": [
    {
     "name": "stdout",
     "output_type": "stream",
     "text": [
      "Collecting git+https://github.com/tiago-ferrer/skylab2iai.git\n",
      "  Cloning https://github.com/tiago-ferrer/skylab2iai.git to /private/var/folders/hy/xytgcv_918g52cyszks7d_500000gn/T/pip-req-build-4nqc0rve\n",
      "  Running command git clone --filter=blob:none --quiet https://github.com/tiago-ferrer/skylab2iai.git /private/var/folders/hy/xytgcv_918g52cyszks7d_500000gn/T/pip-req-build-4nqc0rve\n",
      "  Resolved https://github.com/tiago-ferrer/skylab2iai.git to commit 240cd754975fa96f253e125fb7dec84c23bf125c\n",
      "  Installing build dependencies ... \u001b[?25ldone\n",
      "\u001b[?25h  Getting requirements to build wheel ... \u001b[?25ldone\n",
      "\u001b[?25h  Preparing metadata (pyproject.toml) ... \u001b[?25ldone\n",
      "\u001b[?25hCollecting pandas>=2.0.0 (from skylab2iai==0.0.1)\n",
      "  Downloading pandas-2.3.3-cp310-cp310-macosx_11_0_arm64.whl.metadata (91 kB)\n",
      "Collecting requests>=2.31.0 (from skylab2iai==0.0.1)\n",
      "  Using cached requests-2.32.5-py3-none-any.whl.metadata (4.9 kB)\n",
      "Collecting numpy>=1.22.4 (from pandas>=2.0.0->skylab2iai==0.0.1)\n",
      "  Using cached numpy-2.2.6-cp310-cp310-macosx_14_0_arm64.whl.metadata (62 kB)\n",
      "Requirement already satisfied: python-dateutil>=2.8.2 in /Users/tferrer/repos/skylab2iai/.venv/lib/python3.10/site-packages (from pandas>=2.0.0->skylab2iai==0.0.1) (2.9.0.post0)\n",
      "Collecting pytz>=2020.1 (from pandas>=2.0.0->skylab2iai==0.0.1)\n",
      "  Using cached pytz-2025.2-py2.py3-none-any.whl.metadata (22 kB)\n",
      "Collecting tzdata>=2022.7 (from pandas>=2.0.0->skylab2iai==0.0.1)\n",
      "  Using cached tzdata-2025.2-py2.py3-none-any.whl.metadata (1.4 kB)\n",
      "Requirement already satisfied: six>=1.5 in /Users/tferrer/repos/skylab2iai/.venv/lib/python3.10/site-packages (from python-dateutil>=2.8.2->pandas>=2.0.0->skylab2iai==0.0.1) (1.17.0)\n",
      "Collecting charset_normalizer<4,>=2 (from requests>=2.31.0->skylab2iai==0.0.1)\n",
      "  Using cached charset_normalizer-3.4.3-cp310-cp310-macosx_10_9_universal2.whl.metadata (36 kB)\n",
      "Collecting idna<4,>=2.5 (from requests>=2.31.0->skylab2iai==0.0.1)\n",
      "  Downloading idna-3.11-py3-none-any.whl.metadata (8.4 kB)\n",
      "Collecting urllib3<3,>=1.21.1 (from requests>=2.31.0->skylab2iai==0.0.1)\n",
      "  Using cached urllib3-2.5.0-py3-none-any.whl.metadata (6.5 kB)\n",
      "Collecting certifi>=2017.4.17 (from requests>=2.31.0->skylab2iai==0.0.1)\n",
      "  Downloading certifi-2025.10.5-py3-none-any.whl.metadata (2.5 kB)\n",
      "Downloading pandas-2.3.3-cp310-cp310-macosx_11_0_arm64.whl (10.8 MB)\n",
      "\u001b[2K   \u001b[90m━━━━━━━━━━━━━━━━━━━━━━━━━━━━━━━━━━━━━━━━\u001b[0m \u001b[32m10.8/10.8 MB\u001b[0m \u001b[31m63.0 MB/s\u001b[0m eta \u001b[36m0:00:00\u001b[0m\n",
      "\u001b[?25hUsing cached numpy-2.2.6-cp310-cp310-macosx_14_0_arm64.whl (5.3 MB)\n",
      "Using cached pytz-2025.2-py2.py3-none-any.whl (509 kB)\n",
      "Using cached requests-2.32.5-py3-none-any.whl (64 kB)\n",
      "Using cached charset_normalizer-3.4.3-cp310-cp310-macosx_10_9_universal2.whl (207 kB)\n",
      "Downloading idna-3.11-py3-none-any.whl (71 kB)\n",
      "Using cached urllib3-2.5.0-py3-none-any.whl (129 kB)\n",
      "Downloading certifi-2025.10.5-py3-none-any.whl (163 kB)\n",
      "Using cached tzdata-2025.2-py2.py3-none-any.whl (347 kB)\n",
      "Building wheels for collected packages: skylab2iai\n",
      "  Building wheel for skylab2iai (pyproject.toml) ... \u001b[?25ldone\n",
      "\u001b[?25h  Created wheel for skylab2iai: filename=skylab2iai-0.0.1-py3-none-any.whl size=6587 sha256=47640327326a18f0dbe1016bd5aa7a09923461ffeaeccbc7c96efe5c2cd28ad0\n",
      "  Stored in directory: /private/var/folders/hy/xytgcv_918g52cyszks7d_500000gn/T/pip-ephem-wheel-cache-0h0q40sf/wheels/44/61/7c/fc40ad1ac5649bfcd02533b90552f09db8b2be1d6f2553f801\n",
      "Successfully built skylab2iai\n",
      "Installing collected packages: pytz, urllib3, tzdata, numpy, idna, charset_normalizer, certifi, requests, pandas, skylab2iai\n",
      "\u001b[2K   \u001b[90m━━━━━━━━━━━━━━━━━━━━━━━━━━━━━━━━━━━━━━━━\u001b[0m \u001b[32m10/10\u001b[0m [skylab2iai]0\u001b[0m [pandas]\n",
      "\u001b[1A\u001b[2KSuccessfully installed certifi-2025.10.5 charset_normalizer-3.4.3 idna-3.11 numpy-2.2.6 pandas-2.3.3 pytz-2025.2 requests-2.32.5 skylab2iai-0.0.1 tzdata-2025.2 urllib3-2.5.0\n",
      "\n",
      "\u001b[1m[\u001b[0m\u001b[34;49mnotice\u001b[0m\u001b[1;39;49m]\u001b[0m\u001b[39;49m A new release of pip is available: \u001b[0m\u001b[31;49m25.1.1\u001b[0m\u001b[39;49m -> \u001b[0m\u001b[32;49m25.2\u001b[0m\n",
      "\u001b[1m[\u001b[0m\u001b[34;49mnotice\u001b[0m\u001b[1;39;49m]\u001b[0m\u001b[39;49m To update, run: \u001b[0m\u001b[32;49mpip install --upgrade pip\u001b[0m\n"
     ]
    }
   ],
   "source": [
    "!pip install git+https://github.com/tiago-ferrer/skylab2iai.git\n"
   ]
  },
  {
   "cell_type": "markdown",
   "metadata": {},
   "source": [
    "## Import the Library"
   ]
  },
  {
   "cell_type": "code",
   "execution_count": 2,
   "metadata": {},
   "outputs": [],
   "source": [
    "from skylab2iai import PlateFrameService\n",
    "import pandas as pd"
   ]
  },
  {
   "cell_type": "markdown",
   "metadata": {},
   "source": [
    "## Initialize the Service"
   ]
  },
  {
   "cell_type": "code",
   "execution_count": 3,
   "metadata": {},
   "outputs": [
    {
     "ename": "OperationalError",
     "evalue": "unable to open database file",
     "output_type": "error",
     "traceback": [
      "\u001b[0;31m---------------------------------------------------------------------------\u001b[0m",
      "\u001b[0;31mOperationalError\u001b[0m                          Traceback (most recent call last)",
      "Cell \u001b[0;32mIn[3], line 1\u001b[0m\n\u001b[0;32m----> 1\u001b[0m service \u001b[38;5;241m=\u001b[39m \u001b[43mPlateFrameService\u001b[49m\u001b[43m(\u001b[49m\u001b[43m)\u001b[49m\n",
      "File \u001b[0;32m~/repos/skylab2iai/.venv/lib/python3.10/site-packages/skylab2iai/service/plate_frame.py:18\u001b[0m, in \u001b[0;36mPlateFrameService.__init__\u001b[0;34m(self)\u001b[0m\n\u001b[1;32m     16\u001b[0m \u001b[38;5;28;01mif\u001b[39;00m \u001b[38;5;28mself\u001b[39m\u001b[38;5;241m.\u001b[39m_repository \u001b[38;5;129;01mis\u001b[39;00m \u001b[38;5;28;01mNone\u001b[39;00m:\n\u001b[1;32m     17\u001b[0m     \u001b[38;5;28;01mfrom\u001b[39;00m\u001b[38;5;250m \u001b[39m\u001b[38;5;21;01m.\u001b[39;00m\u001b[38;5;21;01m.\u001b[39;00m\u001b[38;5;21;01mrepository\u001b[39;00m\u001b[38;5;21;01m.\u001b[39;00m\u001b[38;5;21;01mplate_frame_repository\u001b[39;00m\u001b[38;5;250m \u001b[39m\u001b[38;5;28;01mimport\u001b[39;00m PlateFrameRepository\n\u001b[0;32m---> 18\u001b[0m     \u001b[38;5;28mself\u001b[39m\u001b[38;5;241m.\u001b[39m_repository \u001b[38;5;241m=\u001b[39m \u001b[43mPlateFrameRepository\u001b[49m\u001b[43m(\u001b[49m\u001b[43m)\u001b[49m\n",
      "File \u001b[0;32m~/repos/skylab2iai/.venv/lib/python3.10/site-packages/skylab2iai/repository/plate_frame_repository.py:19\u001b[0m, in \u001b[0;36mPlateFrameRepository.__init__\u001b[0;34m(self)\u001b[0m\n\u001b[1;32m     17\u001b[0m \u001b[38;5;28;01mdef\u001b[39;00m\u001b[38;5;250m \u001b[39m\u001b[38;5;21m__init__\u001b[39m(\u001b[38;5;28mself\u001b[39m):\n\u001b[1;32m     18\u001b[0m     \u001b[38;5;28;01mif\u001b[39;00m \u001b[38;5;28mself\u001b[39m\u001b[38;5;241m.\u001b[39m_connection \u001b[38;5;129;01mis\u001b[39;00m \u001b[38;5;28;01mNone\u001b[39;00m:\n\u001b[0;32m---> 19\u001b[0m         \u001b[38;5;28mself\u001b[39m\u001b[38;5;241m.\u001b[39m_connection \u001b[38;5;241m=\u001b[39m \u001b[43m_SqlDataConnection\u001b[49m\u001b[43m(\u001b[49m\u001b[43m)\u001b[49m\n",
      "File \u001b[0;32m~/repos/skylab2iai/.venv/lib/python3.10/site-packages/skylab2iai/config/database/data_connection.py:16\u001b[0m, in \u001b[0;36m_SqlDataConnection.__init__\u001b[0;34m(self)\u001b[0m\n\u001b[1;32m     14\u001b[0m \u001b[38;5;28;01mdef\u001b[39;00m\u001b[38;5;250m \u001b[39m\u001b[38;5;21m__init__\u001b[39m(\u001b[38;5;28mself\u001b[39m):\n\u001b[1;32m     15\u001b[0m     \u001b[38;5;28;01mif\u001b[39;00m \u001b[38;5;28mself\u001b[39m\u001b[38;5;241m.\u001b[39mdb \u001b[38;5;129;01mis\u001b[39;00m \u001b[38;5;28;01mNone\u001b[39;00m:\n\u001b[0;32m---> 16\u001b[0m         \u001b[38;5;28mself\u001b[39m\u001b[38;5;241m.\u001b[39mdb \u001b[38;5;241m=\u001b[39m \u001b[43msqlite3\u001b[49m\u001b[38;5;241;43m.\u001b[39;49m\u001b[43mconnect\u001b[49m\u001b[43m(\u001b[49m\u001b[38;5;124;43m'\u001b[39;49m\u001b[38;5;124;43msrc/skylab2iai/config/database/skylab-data.db\u001b[39;49m\u001b[38;5;124;43m'\u001b[39;49m\u001b[43m)\u001b[49m\n",
      "\u001b[0;31mOperationalError\u001b[0m: unable to open database file"
     ]
    }
   ],
   "source": [
    "service = PlateFrameService()"
   ]
  },
  {
   "cell_type": "markdown",
   "metadata": {},
   "source": [
    "## Get All Plate Frames\n",
    "\n",
    "Retrieve all available plate frames from the database:"
   ]
  },
  {
   "cell_type": "code",
   "execution_count": null,
   "metadata": {},
   "outputs": [],
   "source": [
    "plate_frames = service.get_plate_frames()\n",
    "print(f\"Total plate frames: {len(plate_frames)}\")\n",
    "plate_frames.head()"
   ]
  },
  {
   "cell_type": "markdown",
   "metadata": {},
   "source": [
    "## Get a Specific Plate Frame"
   ]
  },
  {
   "cell_type": "code",
   "execution_count": null,
   "metadata": {},
   "outputs": [],
   "source": [
    "# Replace 'plate_name' with an actual plate frame name from your database\n",
    "plate_frame = service.get_plate_frame(\"plate_name\")\n",
    "plate_frame"
   ]
  },
  {
   "cell_type": "markdown",
   "metadata": {},
   "source": [
    "## Get Plate Frames by Plate Name"
   ]
  },
  {
   "cell_type": "code",
   "execution_count": null,
   "metadata": {},
   "outputs": [],
   "source": [
    "# Replace 'plate_name' with an actual plate name\n",
    "plate_frames_by_plate = service.get_plate_frames_by_plate(\"plate_name\")\n",
    "plate_frames_by_plate"
   ]
  },
  {
   "cell_type": "markdown",
   "metadata": {},
   "source": [
    "## Download FITS Files\n",
    "\n",
    "Download FITS files for specific plate frames:"
   ]
  },
  {
   "cell_type": "code",
   "execution_count": null,
   "metadata": {},
   "outputs": [],
   "source": [
    "# Replace with actual plate frame names from your database\n",
    "plate_names = (\"plate1\", \"plate2\", \"plate3\")\n",
    "\n",
    "downloaded_files = service.download_fits_plate_frames(\n",
    "    plate_names=plate_names,\n",
    "    output_dir=\"./fits_data\"  # Optional, defaults to './fits_downloads'\n",
    ")\n",
    "\n",
    "print(f\"\\nDownloaded {len(downloaded_files)} files:\")\n",
    "for file_path in downloaded_files:\n",
    "    print(f\"  - {file_path}\")"
   ]
  },
  {
   "cell_type": "markdown",
   "metadata": {},
   "source": [
    "## Working with Downloaded FITS Files\n",
    "\n",
    "You can use `astropy` to work with the downloaded FITS files:"
   ]
  },
  {
   "cell_type": "code",
   "execution_count": null,
   "metadata": {},
   "outputs": [],
   "source": [
    "# Install astropy if needed\n",
    "!pip install astropy\n",
    "\n",
    "from astropy.io import fits\n",
    "import matplotlib.pyplot as plt\n",
    "\n",
    "# Example: Read and display a FITS file\n",
    "if downloaded_files:\n",
    "    with fits.open(downloaded_files[0]) as hdul:\n",
    "        hdul.info()\n",
    "        # Display the first image extension if available\n",
    "        if len(hdul) > 0:\n",
    "            data = hdul[0].data\n",
    "            if data is not None:\n",
    "                plt.figure(figsize=(10, 10))\n",
    "                plt.imshow(data, cmap='gray')\n",
    "                plt.colorbar()\n",
    "                plt.title(f\"FITS Image: {downloaded_files[0]}\")\n",
    "                plt.show()"
   ]
  }
 ],
 "metadata": {
  "kernelspec": {
   "display_name": ".venv",
   "language": "python",
   "name": "python3"
  },
  "language_info": {
   "codemirror_mode": {
    "name": "ipython",
    "version": 3
   },
   "file_extension": ".py",
   "mimetype": "text/x-python",
   "name": "python",
   "nbconvert_exporter": "python",
   "pygments_lexer": "ipython3",
   "version": "3.10.18"
  }
 },
 "nbformat": 4,
 "nbformat_minor": 4
}
