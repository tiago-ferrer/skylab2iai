{
 "cells": [
  {
   "cell_type": "markdown",
   "metadata": {},
   "source": [
    "# Skylab2IAI - Google Colab Example\n",
    "\n",
    "This notebook demonstrates how to use the Skylab2IAI library in Google Colab to access and download Skylab mission data."
   ]
  },
  {
   "cell_type": "markdown",
   "metadata": {},
   "source": [
    "## Installation\n",
    "\n",
    "First, install the library directly from GitHub:"
   ]
  },
  {
   "cell_type": "code",
   "execution_count": null,
   "metadata": {},
   "outputs": [],
   "source": [
    "!pip install git+https://github.com/tiago-ferrer/skylab2iai.git"
   ]
  },
  {
   "cell_type": "markdown",
   "metadata": {},
   "source": [
    "## Import the Library"
   ]
  },
  {
   "cell_type": "code",
   "execution_count": null,
   "metadata": {},
   "outputs": [],
   "source": [
    "from skylab2iai import PlateFrameService\n",
    "import pandas as pd"
   ]
  },
  {
   "cell_type": "markdown",
   "metadata": {},
   "source": [
    "## Initialize the Service"
   ]
  },
  {
   "cell_type": "code",
   "execution_count": null,
   "metadata": {},
   "outputs": [],
   "source": [
    "service = PlateFrameService()"
   ]
  },
  {
   "cell_type": "markdown",
   "metadata": {},
   "source": [
    "## Get All Plate Frames\n",
    "\n",
    "Retrieve all available plate frames from the database:"
   ]
  },
  {
   "cell_type": "code",
   "execution_count": null,
   "metadata": {},
   "outputs": [],
   "source": [
    "plate_frames = service.get_plate_frames()\n",
    "print(f\"Total plate frames: {len(plate_frames)}\")\n",
    "plate_frames.head()"
   ]
  },
  {
   "cell_type": "markdown",
   "metadata": {},
   "source": [
    "## Get a Specific Plate Frame"
   ]
  },
  {
   "cell_type": "code",
   "execution_count": null,
   "metadata": {},
   "outputs": [],
   "source": [
    "# Replace 'plate_name' with an actual plate frame name from your database\n",
    "plate_frame = service.get_plate_frame(\"plate_name\")\n",
    "plate_frame"
   ]
  },
  {
   "cell_type": "markdown",
   "metadata": {},
   "source": [
    "## Get Plate Frames by Plate Name"
   ]
  },
  {
   "cell_type": "code",
   "execution_count": null,
   "metadata": {},
   "outputs": [],
   "source": [
    "# Replace 'plate_name' with an actual plate name\n",
    "plate_frames_by_plate = service.get_plate_frames_by_plate(\"plate_name\")\n",
    "plate_frames_by_plate"
   ]
  },
  {
   "cell_type": "markdown",
   "metadata": {},
   "source": [
    "## Download FITS Files\n",
    "\n",
    "Download FITS files for specific plate frames:"
   ]
  },
  {
   "cell_type": "code",
   "execution_count": null,
   "metadata": {},
   "outputs": [],
   "source": [
    "# Replace with actual plate frame names from your database\n",
    "plate_names = (\"plate1\", \"plate2\", \"plate3\")\n",
    "\n",
    "downloaded_files = service.download_fits_plate_frames(\n",
    "    plate_names=plate_names,\n",
    "    output_dir=\"./fits_data\"  # Optional, defaults to './fits_downloads'\n",
    ")\n",
    "\n",
    "print(f\"\\nDownloaded {len(downloaded_files)} files:\")\n",
    "for file_path in downloaded_files:\n",
    "    print(f\"  - {file_path}\")"
   ]
  },
  {
   "cell_type": "markdown",
   "metadata": {},
   "source": [
    "## Working with Downloaded FITS Files\n",
    "\n",
    "You can use `astropy` to work with the downloaded FITS files:"
   ]
  },
  {
   "cell_type": "code",
   "execution_count": null,
   "metadata": {},
   "outputs": [],
   "source": [
    "# Install astropy if needed\n",
    "!pip install astropy\n",
    "\n",
    "from astropy.io import fits\n",
    "import matplotlib.pyplot as plt\n",
    "\n",
    "# Example: Read and display a FITS file\n",
    "if downloaded_files:\n",
    "    with fits.open(downloaded_files[0]) as hdul:\n",
    "        hdul.info()\n",
    "        # Display the first image extension if available\n",
    "        if len(hdul) > 0:\n",
    "            data = hdul[0].data\n",
    "            if data is not None:\n",
    "                plt.figure(figsize=(10, 10))\n",
    "                plt.imshow(data, cmap='gray')\n",
    "                plt.colorbar()\n",
    "                plt.title(f\"FITS Image: {downloaded_files[0]}\")\n",
    "                plt.show()"
   ]
  }
 ],
 "metadata": {
  "kernelspec": {
   "display_name": "Python 3",
   "language": "python",
   "name": "python3"
  },
  "language_info": {
   "codemirror_mode": {
    "name": "ipython",
    "version": 3
   },
   "file_extension": ".py",
   "mimetype": "text/x-python",
   "name": "python",
   "nbconvert_exporter": "python",
   "pygments_lexer": "ipython3",
   "version": "3.10.0"
  }
 },
 "nbformat": 4,
 "nbformat_minor": 4
}
