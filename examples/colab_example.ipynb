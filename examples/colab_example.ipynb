{
 "cells": [
  {
   "cell_type": "markdown",
   "metadata": {},
   "source": [
    "# Skylab2IAI - Google Colab Example\n",
    "\n",
    "This notebook demonstrates how to use the Skylab2IAI library in Google Colab to access and download Skylab mission data."
   ]
  },
  {
   "cell_type": "markdown",
   "metadata": {},
   "source": [
    "## Installation\n",
    "\n",
    "First, install the library directly from GitHub:"
   ]
  },
  {
   "cell_type": "code",
   "execution_count": 14,
   "metadata": {},
   "outputs": [
    {
     "name": "stdout",
     "output_type": "stream",
     "text": [
      "Collecting git+https://github.com/tiago-ferrer/skylab2iai.git\n",
      "  Cloning https://github.com/tiago-ferrer/skylab2iai.git to /private/var/folders/hy/xytgcv_918g52cyszks7d_500000gn/T/pip-req-build-amksw7uz\n",
      "  Running command git clone --filter=blob:none --quiet https://github.com/tiago-ferrer/skylab2iai.git /private/var/folders/hy/xytgcv_918g52cyszks7d_500000gn/T/pip-req-build-amksw7uz\n",
      "  Resolved https://github.com/tiago-ferrer/skylab2iai.git to commit d53948bd19c939e8593371be52cae2c40834b258\n",
      "  Installing build dependencies ... \u001b[?25ldone\n",
      "\u001b[?25h  Getting requirements to build wheel ... \u001b[?25ldone\n",
      "\u001b[?25h  Preparing metadata (pyproject.toml) ... \u001b[?25ldone\n",
      "\u001b[?25hCollecting pandas>=2.0.0 (from skylab2iai==0.0.1)\n",
      "  Using cached pandas-2.3.3-cp310-cp310-macosx_11_0_arm64.whl.metadata (91 kB)\n",
      "Collecting requests>=2.31.0 (from skylab2iai==0.0.1)\n",
      "  Using cached requests-2.32.5-py3-none-any.whl.metadata (4.9 kB)\n",
      "Collecting numpy>=1.22.4 (from pandas>=2.0.0->skylab2iai==0.0.1)\n",
      "  Using cached numpy-2.2.6-cp310-cp310-macosx_14_0_arm64.whl.metadata (62 kB)\n",
      "Collecting python-dateutil>=2.8.2 (from pandas>=2.0.0->skylab2iai==0.0.1)\n",
      "  Using cached python_dateutil-2.9.0.post0-py2.py3-none-any.whl.metadata (8.4 kB)\n",
      "Collecting pytz>=2020.1 (from pandas>=2.0.0->skylab2iai==0.0.1)\n",
      "  Using cached pytz-2025.2-py2.py3-none-any.whl.metadata (22 kB)\n",
      "Collecting tzdata>=2022.7 (from pandas>=2.0.0->skylab2iai==0.0.1)\n",
      "  Using cached tzdata-2025.2-py2.py3-none-any.whl.metadata (1.4 kB)\n",
      "Collecting six>=1.5 (from python-dateutil>=2.8.2->pandas>=2.0.0->skylab2iai==0.0.1)\n",
      "  Using cached six-1.17.0-py2.py3-none-any.whl.metadata (1.7 kB)\n",
      "Collecting charset_normalizer<4,>=2 (from requests>=2.31.0->skylab2iai==0.0.1)\n",
      "  Using cached charset_normalizer-3.4.3-cp310-cp310-macosx_10_9_universal2.whl.metadata (36 kB)\n",
      "Collecting idna<4,>=2.5 (from requests>=2.31.0->skylab2iai==0.0.1)\n",
      "  Using cached idna-3.11-py3-none-any.whl.metadata (8.4 kB)\n",
      "Collecting urllib3<3,>=1.21.1 (from requests>=2.31.0->skylab2iai==0.0.1)\n",
      "  Using cached urllib3-2.5.0-py3-none-any.whl.metadata (6.5 kB)\n",
      "Collecting certifi>=2017.4.17 (from requests>=2.31.0->skylab2iai==0.0.1)\n",
      "  Using cached certifi-2025.10.5-py3-none-any.whl.metadata (2.5 kB)\n",
      "Using cached pandas-2.3.3-cp310-cp310-macosx_11_0_arm64.whl (10.8 MB)\n",
      "Using cached numpy-2.2.6-cp310-cp310-macosx_14_0_arm64.whl (5.3 MB)\n",
      "Using cached python_dateutil-2.9.0.post0-py2.py3-none-any.whl (229 kB)\n",
      "Using cached pytz-2025.2-py2.py3-none-any.whl (509 kB)\n",
      "Using cached requests-2.32.5-py3-none-any.whl (64 kB)\n",
      "Using cached charset_normalizer-3.4.3-cp310-cp310-macosx_10_9_universal2.whl (207 kB)\n",
      "Using cached idna-3.11-py3-none-any.whl (71 kB)\n",
      "Using cached urllib3-2.5.0-py3-none-any.whl (129 kB)\n",
      "Using cached certifi-2025.10.5-py3-none-any.whl (163 kB)\n",
      "Using cached six-1.17.0-py2.py3-none-any.whl (11 kB)\n",
      "Using cached tzdata-2025.2-py2.py3-none-any.whl (347 kB)\n",
      "Building wheels for collected packages: skylab2iai\n",
      "  Building wheel for skylab2iai (pyproject.toml) ... \u001b[?25ldone\n",
      "\u001b[?25h  Created wheel for skylab2iai: filename=skylab2iai-0.0.1-py3-none-any.whl size=238230 sha256=79c4032238155220e0659e3232cb872b6e0c19f8baa5e35676091bed4c13f8c0\n",
      "  Stored in directory: /private/var/folders/hy/xytgcv_918g52cyszks7d_500000gn/T/pip-ephem-wheel-cache-wz_yjn4g/wheels/44/61/7c/fc40ad1ac5649bfcd02533b90552f09db8b2be1d6f2553f801\n",
      "Successfully built skylab2iai\n",
      "Installing collected packages: pytz, urllib3, tzdata, six, numpy, idna, charset_normalizer, certifi, requests, python-dateutil, pandas, skylab2iai\n",
      "\u001b[2K  Attempting uninstall: pytz\n",
      "\u001b[2K    Found existing installation: pytz 2025.2\n",
      "\u001b[2K    Uninstalling pytz-2025.2:\n",
      "\u001b[2K      Successfully uninstalled pytz-2025.2\n",
      "\u001b[2K  Attempting uninstall: urllib3\n",
      "\u001b[2K    Found existing installation: urllib3 2.5.0\n",
      "\u001b[2K    Uninstalling urllib3-2.5.0:\n",
      "\u001b[2K      Successfully uninstalled urllib3-2.5.0\n",
      "\u001b[2K  Attempting uninstall: tzdata\n",
      "\u001b[2K    Found existing installation: tzdata 2025.2\n",
      "\u001b[2K    Uninstalling tzdata-2025.2:0m━━━━━━━━━━━━━━━━━━━━━━━━━━━━━━━━━\u001b[0m \u001b[32m 2/12\u001b[0m [tzdata]\n",
      "\u001b[2K      Successfully uninstalled tzdata-2025.2━━━━━━━━━━━━━━━━━━\u001b[0m \u001b[32m 2/12\u001b[0m [tzdata]\n",
      "\u001b[2K  Attempting uninstall: six0m━━━━━━━━━━━━━━━━━━━━━━━━━━━━━━━━━\u001b[0m \u001b[32m 2/12\u001b[0m [tzdata]\n",
      "\u001b[2K    Found existing installation: six 1.17.0━━━━━━━━━━━━━━━━━━━\u001b[0m \u001b[32m 2/12\u001b[0m [tzdata]\n",
      "\u001b[2K    Uninstalling six-1.17.0:m━━━━━━━━━━━━━━━━━━━━━━━━━━━━━━━━━\u001b[0m \u001b[32m 2/12\u001b[0m [tzdata]\n",
      "\u001b[2K      Successfully uninstalled six-1.17.0━━━━━━━━━━━━━━━━━━━━━━━━━\u001b[0m \u001b[32m 3/12\u001b[0m [six]\n",
      "\u001b[2K  Attempting uninstall: numpy[90m━━━━━━━━━━━━━━━━━━━━━━━━━━━━━\u001b[0m \u001b[32m 3/12\u001b[0m [six]\n",
      "\u001b[2K    Found existing installation: numpy 2.2.6━━━━━━━━━━━━━━━━━━\u001b[0m \u001b[32m 3/12\u001b[0m [six]\n",
      "\u001b[2K    Uninstalling numpy-2.2.6:[90m━━━━━━━━━━━━━━━━━━━━━━━━━━━━━\u001b[0m \u001b[32m 3/12\u001b[0m [six]\n",
      "\u001b[2K      Successfully uninstalled numpy-2.2.6━━━━━━━━━━━━━━━━━━━━\u001b[0m \u001b[32m 3/12\u001b[0m [six]\n",
      "\u001b[2K  Attempting uninstall: idna0m╺\u001b[0m\u001b[90m━━━━━━━━━━━━━━━━━━━━━━━━━━\u001b[0m \u001b[32m 4/12\u001b[0m [numpy]\n",
      "\u001b[2K    Found existing installation: idna 3.11━━━━━━━━━━━━━━━━━━━━\u001b[0m \u001b[32m 4/12\u001b[0m [numpy]\n",
      "\u001b[2K    Uninstalling idna-3.11:\u001b[0m\u001b[90m━━━━━━━━━━━━━━━━━━━━━━━━━━\u001b[0m \u001b[32m 4/12\u001b[0m [numpy]\n",
      "\u001b[2K      Successfully uninstalled idna-3.11━━━━━━━━━━━━━━━━━━━━━━\u001b[0m \u001b[32m 4/12\u001b[0m [numpy]\n",
      "\u001b[2K  Attempting uninstall: charset_normalizerm━━━━━━━━━━━━━━━━━━━━━━━\u001b[0m \u001b[32m 5/12\u001b[0m [idna]\n",
      "\u001b[2K    Found existing installation: charset-normalizer 3.4.3━━━━━\u001b[0m \u001b[32m 5/12\u001b[0m [idna]\n",
      "\u001b[2K    Uninstalling charset-normalizer-3.4.3:━━━━━━━━━━━━━━━━━━━━\u001b[0m \u001b[32m 5/12\u001b[0m [idna]\n",
      "\u001b[2K      Successfully uninstalled charset-normalizer-3.4.3━━━━━━━\u001b[0m \u001b[32m 5/12\u001b[0m [idna]\n",
      "\u001b[2K  Attempting uninstall: certifi[0m\u001b[90m━━━━━━━━━━━━━━━━━━━━━━━\u001b[0m \u001b[32m 5/12\u001b[0m [idna]\n",
      "\u001b[2K    Found existing installation: certifi 2025.10.5━━━━━━━━━━━━\u001b[0m \u001b[32m 5/12\u001b[0m [idna]\n",
      "\u001b[2K    Uninstalling certifi-2025.10.5:[90m━━━━━━━━━━━━━━━━━━━━━━━\u001b[0m \u001b[32m 5/12\u001b[0m [idna]\n",
      "\u001b[2K      Successfully uninstalled certifi-2025.10.5━━━━━━━━━━━━━━\u001b[0m \u001b[32m 5/12\u001b[0m [idna]\n",
      "\u001b[2K  Attempting uninstall: requests0m\u001b[90m━━━━━━━━━━━━━━━━━━━━━━━\u001b[0m \u001b[32m 5/12\u001b[0m [idna]\n",
      "\u001b[2K    Found existing installation: requests 2.32.5━━━━━━━━━━━━━━\u001b[0m \u001b[32m 5/12\u001b[0m [idna]\n",
      "\u001b[2K    Uninstalling requests-2.32.5:m\u001b[90m━━━━━━━━━━━━━━━━━━━━━━━\u001b[0m \u001b[32m 5/12\u001b[0m [idna]\n",
      "\u001b[2K      Successfully uninstalled requests-2.32.5━━━━━━━━━━━━━━━━\u001b[0m \u001b[32m 5/12\u001b[0m [idna]\n",
      "\u001b[2K  Attempting uninstall: python-dateutil━━━━━━━━━━━━━━━━━━━━━━━\u001b[0m \u001b[32m 5/12\u001b[0m [idna]\n",
      "\u001b[2K    Found existing installation: python-dateutil 2.9.0.post0━━\u001b[0m \u001b[32m 5/12\u001b[0m [idna]\n",
      "\u001b[2K    Uninstalling python-dateutil-2.9.0.post0:━━━━━━━━━━━━━━━━━\u001b[0m \u001b[32m 5/12\u001b[0m [idna]\n",
      "\u001b[2K      Successfully uninstalled python-dateutil-2.9.0.post0━━━━\u001b[0m \u001b[32m 5/12\u001b[0m [idna]\n",
      "\u001b[2K  Attempting uninstall: pandas\u001b[0m\u001b[90m━━━━━━━━━━━━━━━━━━━━━━━\u001b[0m \u001b[32m 5/12\u001b[0m [idna]\n",
      "\u001b[2K    Found existing installation: pandas 2.3.3━━━━━━━━━━━━━━━━━\u001b[0m \u001b[32m 5/12\u001b[0m [idna]\n",
      "\u001b[2K    Uninstalling pandas-2.3.3:\u001b[0m\u001b[90m━━━━━━━━━━━━━━━━━━━━━━━\u001b[0m \u001b[32m 5/12\u001b[0m [idna]\n",
      "\u001b[2K      Successfully uninstalled pandas-2.3.30m\u001b[90m╺\u001b[0m\u001b[90m━━━━━━\u001b[0m \u001b[32m10/12\u001b[0m [pandas]\n",
      "\u001b[2K  Attempting uninstall: skylab2iai━━━━━━━\u001b[0m\u001b[90m╺\u001b[0m\u001b[90m━━━━━━\u001b[0m \u001b[32m10/12\u001b[0m [pandas]\n",
      "\u001b[2K    Found existing installation: skylab2iai 0.0.10m\u001b[90m━━━━━━\u001b[0m \u001b[32m10/12\u001b[0m [pandas]\n",
      "\u001b[2K    Uninstalling skylab2iai-0.0.1:━━━\u001b[0m\u001b[90m╺\u001b[0m\u001b[90m━━━━━━\u001b[0m \u001b[32m10/12\u001b[0m [pandas]\n",
      "\u001b[2K      Successfully uninstalled skylab2iai-0.0.1\u001b[0m\u001b[90m━━━━━━\u001b[0m \u001b[32m10/12\u001b[0m [pandas]\n",
      "\u001b[2K   \u001b[90m━━━━━━━━━━━━━━━━━━━━━━━━━━━━━━━━━━━━━━━━\u001b[0m \u001b[32m12/12\u001b[0m [skylab2iai]m [pandas]\n",
      "\u001b[1A\u001b[2KSuccessfully installed certifi-2025.10.5 charset_normalizer-3.4.3 idna-3.11 numpy-2.2.6 pandas-2.3.3 python-dateutil-2.9.0.post0 pytz-2025.2 requests-2.32.5 six-1.17.0 skylab2iai-0.0.1 tzdata-2025.2 urllib3-2.5.0\n",
      "\n",
      "\u001b[1m[\u001b[0m\u001b[34;49mnotice\u001b[0m\u001b[1;39;49m]\u001b[0m\u001b[39;49m A new release of pip is available: \u001b[0m\u001b[31;49m25.1.1\u001b[0m\u001b[39;49m -> \u001b[0m\u001b[32;49m25.2\u001b[0m\n",
      "\u001b[1m[\u001b[0m\u001b[34;49mnotice\u001b[0m\u001b[1;39;49m]\u001b[0m\u001b[39;49m To update, run: \u001b[0m\u001b[32;49mpip install --upgrade pip\u001b[0m\n"
     ]
    }
   ],
   "source": [
    "!pip install --force-reinstall git+https://github.com/tiago-ferrer/skylab2iai.git\n",
    "\n"
   ]
  },
  {
   "cell_type": "markdown",
   "metadata": {},
   "source": [
    "## Import the Library"
   ]
  },
  {
   "cell_type": "code",
   "execution_count": 15,
   "metadata": {},
   "outputs": [],
   "source": [
    "from skylab2iai import PlateFrameService\n",
    "import pandas as pd"
   ]
  },
  {
   "cell_type": "markdown",
   "metadata": {},
   "source": [
    "## Initialize the Service"
   ]
  },
  {
   "cell_type": "code",
   "execution_count": 16,
   "metadata": {},
   "outputs": [
    {
     "ename": "OperationalError",
     "evalue": "unable to open database file",
     "output_type": "error",
     "traceback": [
      "\u001b[0;31m---------------------------------------------------------------------------\u001b[0m",
      "\u001b[0;31mOperationalError\u001b[0m                          Traceback (most recent call last)",
      "Cell \u001b[0;32mIn[16], line 1\u001b[0m\n\u001b[0;32m----> 1\u001b[0m service \u001b[38;5;241m=\u001b[39m \u001b[43mPlateFrameService\u001b[49m\u001b[43m(\u001b[49m\u001b[43m)\u001b[49m\n",
      "File \u001b[0;32m~/repos/skylab2iai/.venv/lib/python3.10/site-packages/skylab2iai/service/plate_frame.py:18\u001b[0m, in \u001b[0;36mPlateFrameService.__init__\u001b[0;34m(self)\u001b[0m\n\u001b[1;32m     16\u001b[0m \u001b[38;5;28;01mif\u001b[39;00m \u001b[38;5;28mself\u001b[39m\u001b[38;5;241m.\u001b[39m_repository \u001b[38;5;129;01mis\u001b[39;00m \u001b[38;5;28;01mNone\u001b[39;00m:\n\u001b[1;32m     17\u001b[0m     \u001b[38;5;28;01mfrom\u001b[39;00m\u001b[38;5;250m \u001b[39m\u001b[38;5;21;01m.\u001b[39;00m\u001b[38;5;21;01m.\u001b[39;00m\u001b[38;5;21;01mrepository\u001b[39;00m\u001b[38;5;21;01m.\u001b[39;00m\u001b[38;5;21;01mplate_frame_repository\u001b[39;00m\u001b[38;5;250m \u001b[39m\u001b[38;5;28;01mimport\u001b[39;00m PlateFrameRepository\n\u001b[0;32m---> 18\u001b[0m     \u001b[38;5;28mself\u001b[39m\u001b[38;5;241m.\u001b[39m_repository \u001b[38;5;241m=\u001b[39m \u001b[43mPlateFrameRepository\u001b[49m\u001b[43m(\u001b[49m\u001b[43m)\u001b[49m\n",
      "File \u001b[0;32m~/repos/skylab2iai/.venv/lib/python3.10/site-packages/skylab2iai/repository/plate_frame_repository.py:19\u001b[0m, in \u001b[0;36mPlateFrameRepository.__init__\u001b[0;34m(self)\u001b[0m\n\u001b[1;32m     17\u001b[0m \u001b[38;5;28;01mdef\u001b[39;00m\u001b[38;5;250m \u001b[39m\u001b[38;5;21m__init__\u001b[39m(\u001b[38;5;28mself\u001b[39m):\n\u001b[1;32m     18\u001b[0m     \u001b[38;5;28;01mif\u001b[39;00m \u001b[38;5;28mself\u001b[39m\u001b[38;5;241m.\u001b[39m_connection \u001b[38;5;129;01mis\u001b[39;00m \u001b[38;5;28;01mNone\u001b[39;00m:\n\u001b[0;32m---> 19\u001b[0m         \u001b[38;5;28mself\u001b[39m\u001b[38;5;241m.\u001b[39m_connection \u001b[38;5;241m=\u001b[39m \u001b[43m_SqlDataConnection\u001b[49m\u001b[43m(\u001b[49m\u001b[43m)\u001b[49m\n",
      "File \u001b[0;32m~/repos/skylab2iai/.venv/lib/python3.10/site-packages/skylab2iai/config/database/data_connection.py:16\u001b[0m, in \u001b[0;36m_SqlDataConnection.__init__\u001b[0;34m(self)\u001b[0m\n\u001b[1;32m     14\u001b[0m \u001b[38;5;28;01mdef\u001b[39;00m\u001b[38;5;250m \u001b[39m\u001b[38;5;21m__init__\u001b[39m(\u001b[38;5;28mself\u001b[39m):\n\u001b[1;32m     15\u001b[0m     \u001b[38;5;28;01mif\u001b[39;00m \u001b[38;5;28mself\u001b[39m\u001b[38;5;241m.\u001b[39mdb \u001b[38;5;129;01mis\u001b[39;00m \u001b[38;5;28;01mNone\u001b[39;00m:\n\u001b[0;32m---> 16\u001b[0m         \u001b[38;5;28mself\u001b[39m\u001b[38;5;241m.\u001b[39mdb \u001b[38;5;241m=\u001b[39m \u001b[43msqlite3\u001b[49m\u001b[38;5;241;43m.\u001b[39;49m\u001b[43mconnect\u001b[49m\u001b[43m(\u001b[49m\u001b[38;5;124;43m'\u001b[39;49m\u001b[38;5;124;43msrc/skylab2iai/config/database/skylab-data.db\u001b[39;49m\u001b[38;5;124;43m'\u001b[39;49m\u001b[43m)\u001b[49m\n",
      "\u001b[0;31mOperationalError\u001b[0m: unable to open database file"
     ]
    }
   ],
   "source": [
    "service = PlateFrameService()"
   ]
  },
  {
   "cell_type": "markdown",
   "metadata": {},
   "source": [
    "## Get All Plate Frames\n",
    "\n",
    "Retrieve all available plate frames from the database:"
   ]
  },
  {
   "cell_type": "code",
   "execution_count": null,
   "metadata": {},
   "outputs": [],
   "source": [
    "plate_frames = service.get_plate_frames()\n",
    "print(f\"Total plate frames: {len(plate_frames)}\")\n",
    "plate_frames.head()"
   ]
  },
  {
   "cell_type": "markdown",
   "metadata": {},
   "source": [
    "## Get a Specific Plate Frame"
   ]
  },
  {
   "cell_type": "code",
   "execution_count": null,
   "metadata": {},
   "outputs": [],
   "source": [
    "# Replace 'plate_name' with an actual plate frame name from your database\n",
    "plate_frame = service.get_plate_frame(\"plate_name\")\n",
    "plate_frame"
   ]
  },
  {
   "cell_type": "markdown",
   "metadata": {},
   "source": [
    "## Get Plate Frames by Plate Name"
   ]
  },
  {
   "cell_type": "code",
   "execution_count": null,
   "metadata": {},
   "outputs": [],
   "source": [
    "# Replace 'plate_name' with an actual plate name\n",
    "plate_frames_by_plate = service.get_plate_frames_by_plate(\"plate_name\")\n",
    "plate_frames_by_plate"
   ]
  },
  {
   "cell_type": "markdown",
   "metadata": {},
   "source": [
    "## Download FITS Files\n",
    "\n",
    "Download FITS files for specific plate frames:"
   ]
  },
  {
   "cell_type": "code",
   "execution_count": null,
   "metadata": {},
   "outputs": [],
   "source": [
    "# Replace with actual plate frame names from your database\n",
    "plate_names = (\"plate1\", \"plate2\", \"plate3\")\n",
    "\n",
    "downloaded_files = service.download_fits_plate_frames(\n",
    "    plate_names=plate_names,\n",
    "    output_dir=\"./fits_data\"  # Optional, defaults to './fits_downloads'\n",
    ")\n",
    "\n",
    "print(f\"\\nDownloaded {len(downloaded_files)} files:\")\n",
    "for file_path in downloaded_files:\n",
    "    print(f\"  - {file_path}\")"
   ]
  },
  {
   "cell_type": "markdown",
   "metadata": {},
   "source": [
    "## Working with Downloaded FITS Files\n",
    "\n",
    "You can use `astropy` to work with the downloaded FITS files:"
   ]
  },
  {
   "cell_type": "code",
   "execution_count": null,
   "metadata": {},
   "outputs": [],
   "source": [
    "# Install astropy if needed\n",
    "!pip install astropy\n",
    "\n",
    "from astropy.io import fits\n",
    "import matplotlib.pyplot as plt\n",
    "\n",
    "# Example: Read and display a FITS file\n",
    "if downloaded_files:\n",
    "    with fits.open(downloaded_files[0]) as hdul:\n",
    "        hdul.info()\n",
    "        # Display the first image extension if available\n",
    "        if len(hdul) > 0:\n",
    "            data = hdul[0].data\n",
    "            if data is not None:\n",
    "                plt.figure(figsize=(10, 10))\n",
    "                plt.imshow(data, cmap='gray')\n",
    "                plt.colorbar()\n",
    "                plt.title(f\"FITS Image: {downloaded_files[0]}\")\n",
    "                plt.show()"
   ]
  }
 ],
 "metadata": {
  "kernelspec": {
   "display_name": ".venv",
   "language": "python",
   "name": "python3"
  },
  "language_info": {
   "codemirror_mode": {
    "name": "ipython",
    "version": 3
   },
   "file_extension": ".py",
   "mimetype": "text/x-python",
   "name": "python",
   "nbconvert_exporter": "python",
   "pygments_lexer": "ipython3",
   "version": "3.10.18"
  }
 },
 "nbformat": 4,
 "nbformat_minor": 4
}
